{
 "cells": [
  {
   "cell_type": "code",
   "execution_count": 9,
   "metadata": {},
   "outputs": [],
   "source": [
    "import random\n",
    "import math\n",
    "\n",
    "def is_prime(n):\n",
    "    if n < 2:\n",
    "        return False\n",
    "    for i in range(2, int(math.sqrt(n)) + 1):\n",
    "        if n % i == 0:\n",
    "            return False\n",
    "    return True\n",
    "\n",
    "def generate_prime(bits):\n",
    "    while True:\n",
    "        n = random.getrandbits(bits)\n",
    "        if n % 2 == 0:\n",
    "            continue\n",
    "        if is_prime(n):\n",
    "            return n\n",
    "\n",
    "def mod_inverse(e, phi):\n",
    "    for d in range(3, phi):\n",
    "        if (d * e) % phi == 1:\n",
    "            return d\n",
    "    return None\n",
    "\n",
    "def generate_keypair(bits):\n",
    "    p = generate_prime(bits // 2)\n",
    "    q = generate_prime(bits // 2)\n",
    "    n = p * q\n",
    "    phi = (p - 1) * (q - 1)\n",
    "    \n",
    "    e = 65537  # Commonly used value for e\n",
    "    d = mod_inverse(e, phi)\n",
    "    \n",
    "    return ((n, e), (n, d))\n",
    "\n",
    "def encrypt(public_key, message):\n",
    "    n, e = public_key\n",
    "    return [pow(ord(char), e, n) for char in message]\n",
    "\n",
    "def decrypt(private_key, ciphertext):\n",
    "    n, d = private_key\n",
    "    return ''.join([chr(pow(char, d, n)) for char in ciphertext])"
   ]
  },
  {
   "cell_type": "code",
   "execution_count": 14,
   "metadata": {},
   "outputs": [
    {
     "name": "stdout",
     "output_type": "stream",
     "text": [
      "Public key: (962805803, 65537)\n",
      "Private key: (962805803, 910961153)\n"
     ]
    }
   ],
   "source": [
    "# Generate keys\n",
    "public_key, private_key = generate_keypair(30)\n",
    "print(f\"Public key: {public_key}\")\n",
    "print(f\"Private key: {private_key}\")"
   ]
  },
  {
   "cell_type": "code",
   "execution_count": 15,
   "metadata": {},
   "outputs": [
    {
     "name": "stdout",
     "output_type": "stream",
     "text": [
      "Encrypted message: [665268537, 941056289, 907767329, 214827471, 869433785, 907767329, 214827471, 869433785, 107978057, 79916226, 949635873, 214827471, 214827471, 907767329, 342590393, 907767329, 94131178, 537574831, 869433785, 907767329, 883049839, 342590393, 647742850, 517339898, 784953509, 949635873, 809019299, 907767329, 647742850, 883049839, 869433785, 342590393, 517339898, 647742850, 784953509, 869433785, 331968128, 695489236, 455683893, 930486236]\n"
     ]
    }
   ],
   "source": [
    "# Encrypt a message\n",
    "message = \"This is classified information from CIA!\"\n",
    "encrypted_msg = encrypt(public_key, message)\n",
    "print(f\"Encrypted message: {encrypted_msg}\")"
   ]
  },
  {
   "cell_type": "code",
   "execution_count": 16,
   "metadata": {},
   "outputs": [
    {
     "name": "stdout",
     "output_type": "stream",
     "text": [
      "Decrypted message: This is classified information from CIA!\n"
     ]
    }
   ],
   "source": [
    "# Decrypt the message using the private key (to verify it works)\n",
    "decrypted_msg = decrypt(private_key, encrypted_msg)\n",
    "print(f\"Decrypted message: {decrypted_msg}\")"
   ]
  },
  {
   "cell_type": "code",
   "execution_count": 17,
   "metadata": {},
   "outputs": [
    {
     "name": "stdout",
     "output_type": "stream",
     "text": [
      "Factored n: p = 29633, q = 32491\n",
      "Reconstructed private key: (n=962805803, d=910961153)\n",
      "Decrypted message: This is classified information from CIA!\n",
      "Successfully cracked!\n",
      "Attack attempt completed.\n"
     ]
    }
   ],
   "source": [
    "# Brute force factoring of n\n",
    "n, e = public_key\n",
    "for i in range(2, int(math.sqrt(n)) + 1):\n",
    "    if n % i == 0:\n",
    "        p = i\n",
    "        q = n // i\n",
    "        print(f\"Factored n: p = {p}, q = {q}\")\n",
    "        \n",
    "        # Reconstruct private key\n",
    "        phi = (p - 1) * (q - 1)\n",
    "        d = mod_inverse(e, phi)\n",
    "        if d:\n",
    "            print(f\"Reconstructed private key: (n={n}, d={d})\")\n",
    "            \n",
    "            # Try to decrypt the message\n",
    "            try:\n",
    "                decrypted_msg = decrypt((n, d), encrypted_msg)\n",
    "                print(f\"Decrypted message: {decrypted_msg}\")\n",
    "                if decrypted_msg == message:\n",
    "                    print(\"Successfully cracked!\")\n",
    "                else:\n",
    "                    print(\"Decryption produced invalid message.\")\n",
    "            except:\n",
    "                print(\"Failed to decrypt with reconstructed key.\")\n",
    "        else:\n",
    "            print(\"Failed to reconstruct private key.\")\n",
    "        break\n",
    "else:\n",
    "    print(\"Failed to factor n.\")\n",
    "\n",
    "print(\"Attack attempt completed.\")"
   ]
  },
  {
   "cell_type": "code",
   "execution_count": null,
   "metadata": {},
   "outputs": [],
   "source": []
  }
 ],
 "metadata": {
  "kernelspec": {
   "display_name": "ml",
   "language": "python",
   "name": "python3"
  },
  "language_info": {
   "codemirror_mode": {
    "name": "ipython",
    "version": 3
   },
   "file_extension": ".py",
   "mimetype": "text/x-python",
   "name": "python",
   "nbconvert_exporter": "python",
   "pygments_lexer": "ipython3",
   "version": "3.11.4"
  }
 },
 "nbformat": 4,
 "nbformat_minor": 2
}
